{
 "cells": [
  {
   "cell_type": "markdown",
   "metadata": {},
   "source": [
    "# Stochatic intergral of fuctions w.r.t random variable\n",
    "\n",
    "## Problem description\n",
    "\n",
    "\n",
    "We now consider the following problems, what is the result of the following integral\n",
    "$$\\int_0^t f\\left(\\mathbf{\\mathit{X_s}}, s\\right) d \\mathbf{\\mathit{B_s}}$$\n",
    "This can be also defined as the following format:\n",
    "$$\\lim_{\\Delta t\\rightarrow 0}\\sum_{i=1}^{\\infty} f\\left(\\mathbf{\\mathit{X_{s_{i-1}}}}, s_{i-1}\\right) \\left(\\mathbf{\\mathit{B_{s_{i}}}}-\\mathbf{\\mathit{B_{s_{i-1}}}}\\right)$$\n",
    "Of course, this function now becomes to random variable. We can simulate some simple results as follows."
   ]
  },
  {
   "cell_type": "markdown",
   "metadata": {},
   "source": [
    "The simplest one shall be the integral $\\int_0^t \\mathbf{\\mathit{B_s}} d \\mathbf{\\mathit{B_s}}$. Following is the simulation code."
   ]
  },
  {
   "cell_type": "code",
   "execution_count": 5,
   "metadata": {},
   "outputs": [
    {
     "name": "stdout",
     "output_type": "stream",
     "text": [
      "0.7045058699427437\n"
     ]
    }
   ],
   "source": [
    "import numpy as np\n",
    "import matplotlib.pyplot as plt\n",
    "%matplotlib inline\n",
    "\n",
    "def simulate_integral(func, tmin, tmax, ndiv = 1000):\n",
    "    dt = (tmax - tmin)/ndiv\n",
    "    sigma = np.sqrt(dt)\n",
    "    inc = np.random.randn(ndiv)*sigma\n",
    "    xval = np.roll(np.add.accumulate(inc), 1)\n",
    "    return sum(func(xval) * inc)\n",
    "\n",
    "print(simulate_integral(lambda x: x, 0, 1))"
   ]
  },
  {
   "cell_type": "code",
   "execution_count": 6,
   "metadata": {},
   "outputs": [
    {
     "data": {
      "image/png": "[encoded data removed]",
      "text/plain": [
       "<Figure size 432x288 with 1 Axes>"
      ]
     },
     "metadata": {},
     "output_type": "display_data"
    }
   ],
   "source": [
    "N = 10000\n",
    "\n",
    "results = []\n",
    "for _ in range(N):\n",
    "    results.append(simulate_integral(lambda x: x, 0, 1, 1000))\n",
    "\n",
    "plt.hist(results, bins=100, density=True)\n",
    "plt.show()"
   ]
  },
  {
   "cell_type": "markdown",
   "metadata": {},
   "source": [
    "This is obviously not a normal distribution, huh? In fact, the result is something like a ***chi-squared distribution***,  which can be proved as follows.\n",
    "According to Itô's formula, if X is a Itô process, i.e.\n",
    "$$d\\mathbf{\\mathit{X_t}}=\\mu\\left(\\mathbf{\\mathit{X_t}},t\\right) dt + \\sigma\\left(\\mathbf{\\mathit{X_t}},t\\right)d \\mathbf{\\mathit{B_t}}  $$\n",
    "And $f\\left(x, t\\right)$ is a second-order differentiable function, then the following equality holds,\n",
    "$$ df\\left(\\mathit{X_t}, t\\right) = \\frac{\\partial{f}}{\\partial{t}} dt + \\mu\\frac{\\partial{f}}{\\partial{\\mathbf{\\mathit{X_t}}}} d\\mathbf{\\mathit{X_t}} + \\frac{\\sigma^2}{2}\\frac{\\partial^2{f}}{\\partial{\\mathbf{\\mathit{X_t}}}^2} dt $$\n",
    "Here we simply set  $f\\left(x, t\\right) = x^2$, and $d\\mathbf{\\mathit{X_t}}=d\\mathbf{\\mathit{B_t}}$  then following equality holds,\n",
    "$$d(\\mathbf{\\mathit{B_t}}^2) = 2\\mathbf{\\mathit{B_t}}d\\mathbf{\\mathit{B_t}} + dt$$\n",
    "move dt from right to left, and integrate from both tow sides, divide both sides by two, we have (since $\\mathbf{\\mathit{B_0}}=0$)\n",
    "$$\\int_0^t\\mathbf{\\mathit{B_s}}d\\mathbf{\\mathit{B_s}} = \\frac{1}{2} \\mathbf{\\mathit{B_t}}^2 - \\frac{t}{2}$$\n",
    "\n",
    "Higher order moments of Gaussian can be calculated by $\\sigma^n(n-1)!!$, so the expectation of integral is $0$, and variance is $\\frac{1}{2}t^2$\n",
    "\n",
    "We know from [*chi-squared distribution*](https://en.wikipedia.org/wiki/Chi-squared_distribution) that the mean of this distribution is $k$, while the variance is $2k^2$ (here we have consider variance of normal distribution $\\sigma^2$), here we can see the variance is $t^2$, so the mean shall be $t/2$, which is then cancelled out to be mean $0$.\n",
    "\n",
    "Then let us check if this relation ship holds (using biased estimation)."
   ]
  },
  {
   "cell_type": "code",
   "execution_count": 7,
   "metadata": {},
   "outputs": [
    {
     "name": "stdout",
     "output_type": "stream",
     "text": [
      "0.006230470515653758 0.5160422656855123\n"
     ]
    }
   ],
   "source": [
    "#\n",
    "results = np.array(results)\n",
    "mu = np.average(results)\n",
    "sigma_sq = np.average(results**2) - mu**2\n",
    "print(mu, sigma_sq)"
   ]
  },
  {
   "cell_type": "markdown",
   "metadata": {},
   "source": [
    "We can see $\\mu$ and $\\sigma^2$ are as we expected. So this experiment seems to suggest a correct result. Cheers!"
   ]
  },
  {
   "cell_type": "code",
   "execution_count": null,
   "metadata": {},
   "outputs": [],
   "source": []
  }
 ],
 "metadata": {
  "kernelspec": {
   "display_name": "Python 3",
   "language": "python",
   "name": "python3"
  },
  "language_info": {
   "codemirror_mode": {
    "name": "ipython",
    "version": 3
   },
   "file_extension": ".py",
   "mimetype": "text/x-python",
   "name": "python",
   "nbconvert_exporter": "python",
   "pygments_lexer": "ipython3",
   "version": "3.6.6"
  }
 },
 "nbformat": 4,
 "nbformat_minor": 2
}
